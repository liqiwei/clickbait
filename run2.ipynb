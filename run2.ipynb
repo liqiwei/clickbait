{
 "cells": [
  {
   "cell_type": "code",
   "execution_count": 1,
   "metadata": {},
   "outputs": [
    {
     "name": "stdout",
     "output_type": "stream",
     "text": [
      "Requirement already satisfied: numpy in /usr/local/lib/python2.7/site-packages (1.15.2)\n",
      "Requirement already satisfied: pandas in /usr/local/lib/python2.7/site-packages (0.23.4)\n",
      "Requirement already satisfied: pytz>=2011k in /usr/local/lib/python2.7/site-packages (from pandas) (2018.5)\n",
      "Requirement already satisfied: python-dateutil>=2.5.0 in /usr/local/lib/python2.7/site-packages (from pandas) (2.7.3)\n",
      "Requirement already satisfied: numpy>=1.9.0 in /usr/local/lib/python2.7/site-packages (from pandas) (1.15.2)\n",
      "Requirement already satisfied: six>=1.5 in /usr/local/lib/python2.7/site-packages (from python-dateutil>=2.5.0->pandas) (1.11.0)\n",
      "Requirement already satisfied: sklearn in /usr/local/lib/python2.7/site-packages (0.0)\n",
      "Requirement already satisfied: scikit-learn in /usr/local/lib/python2.7/site-packages (from sklearn) (0.20.0)\n",
      "Requirement already satisfied: numpy>=1.8.2 in /usr/local/lib/python2.7/site-packages (from scikit-learn->sklearn) (1.15.2)\n",
      "Requirement already satisfied: scipy>=0.13.3 in /usr/local/lib/python2.7/site-packages (from scikit-learn->sklearn) (1.1.0)\n"
     ]
    }
   ],
   "source": [
    "import sys\n",
    "!{sys.executable} -m pip install numpy\n",
    "!{sys.executable} -m pip install pandas\n",
    "!{sys.executable} -m pip install sklearn"
   ]
  },
  {
   "cell_type": "code",
   "execution_count": 48,
   "metadata": {},
   "outputs": [],
   "source": [
    "import pandas as pd\n",
    "import numpy as np\n",
    "import sklearn"
   ]
  },
  {
   "cell_type": "code",
   "execution_count": 49,
   "metadata": {},
   "outputs": [],
   "source": [
    "clickbait_percentage = pd.read_csv('percents.csv')\n",
    "dic_source_clickbait = {row['source']: row['percent_clickbait'] for i, row in clickbait_percentage.iterrows()}\n",
    "average_clickbait = clickbait_percentage.percent_clickbait.sum() / len(clickbait_percentage)\n",
    "data = pd.read_csv('edata_classified.csv')"
   ]
  },
  {
   "cell_type": "code",
   "execution_count": 50,
   "metadata": {},
   "outputs": [],
   "source": [
    "def add_clickbait(source):\n",
    "    if source.startswith('www.'):\n",
    "        source = source[4:]\n",
    "    if source in dic_source_clickbait:\n",
    "        return dic_source_clickbait[source]\n",
    "    return average_clickbait\n",
    "    \n",
    "data['clickbait_percentage'] = data['source'].apply(add_clickbait)\n",
    "\n",
    "\n",
    "def get_features(data, source_len = 724):\n",
    "    \"\"\"\n",
    "    features for claims\n",
    "    \"\"\"\n",
    "    dic_f = {} # claimCount -> features\n",
    "    \n",
    "    for i in range(len(data)):\n",
    "        row = data.iloc[i]\n",
    "        stance = row['articleHeadlineStance']\n",
    "        stance_id = -1 if stance == 'against' else 0 if stance == 'observing'\\\n",
    "            else 1\n",
    "        source = row.sourceCount - 1 # 1-index to 0-index\n",
    "        claim = row.claimCount\n",
    "        \n",
    "        if claim not in dic_f: dic_f[claim] = np.zeros((source_len,))\n",
    "        dic_f[claim][source] = stance_id\n",
    "    \n",
    "    #claims = dic_f.keys()\n",
    "    return dic_f\n",
    "\n",
    "\n",
    "def extract_truth_labels(data):\n",
    "    claims = sorted(data.claimCount.unique().tolist())\n",
    "    l = [''] * len(claims)\n",
    "    for i in range(len(data)):\n",
    "        row = data.iloc[i]\n",
    "        truth = row.claimTruth\n",
    "        claim = row.claimCount\n",
    "        claimIdx = claims.index(claim)\n",
    "        l[claimIdx] = truth        \n",
    "    return (claims, l)\n",
    "\n",
    "\n",
    "def build_veracity_prediction_matrix():\n",
    "    dic_f = get_features(data)\n",
    "        \n",
    "    (claims, veracity) = extract_truth_labels(data)\n",
    "    \n",
    "    n = len(claims)\n",
    "    m = dic_f.items()[0][1].shape[0]\n",
    "    \n",
    "    F = np.zeros((n, m))\n",
    "    for i, c in enumerate(claims): F[i, :] = dic_f[c]\n",
    "    \n",
    "    return (claims, F, veracity)\n"
   ]
  },
  {
   "cell_type": "code",
   "execution_count": 51,
   "metadata": {},
   "outputs": [],
   "source": [
    "from sklearn.linear_model import LogisticRegression\n",
    "claims, F, vera = build_veracity_prediction_matrix()\n",
    "clf = sklearn.linear_model.LogisticRegression()"
   ]
  },
  {
   "cell_type": "code",
   "execution_count": 52,
   "metadata": {},
   "outputs": [
    {
     "data": {
      "text/plain": [
       "0.5758145363408522"
      ]
     },
     "execution_count": 52,
     "metadata": {},
     "output_type": "execute_result"
    }
   ],
   "source": [
    "np.mean(sklearn.model_selection.cross_val_score(clf, F, vera, cv=4))"
   ]
  },
  {
   "cell_type": "code",
   "execution_count": 53,
   "metadata": {},
   "outputs": [],
   "source": [
    "G = F.copy()\n",
    "for i, row in data.iterrows():\n",
    "    source_index = row['sourceCount'] - 1\n",
    "    percent_clickbait = row['clickbait_percentage']\n",
    "    G[:, source_index] = F[:, source_index] * (1 - percent_clickbait * 0.01)"
   ]
  },
  {
   "cell_type": "code",
   "execution_count": 54,
   "metadata": {},
   "outputs": [],
   "source": [
    "clf_g = sklearn.linear_model.LogisticRegression()"
   ]
  },
  {
   "cell_type": "code",
   "execution_count": 55,
   "metadata": {},
   "outputs": [
    {
     "data": {
      "text/plain": [
       "0.5359024356869184"
      ]
     },
     "execution_count": 55,
     "metadata": {},
     "output_type": "execute_result"
    }
   ],
   "source": [
    "np.mean(sklearn.model_selection.cross_val_score(clf_g, G, vera, cv=8))"
   ]
  },
  {
   "cell_type": "code",
   "execution_count": null,
   "metadata": {},
   "outputs": [],
   "source": []
  }
 ],
 "metadata": {
  "kernelspec": {
   "display_name": "Python 2",
   "language": "python",
   "name": "python2"
  },
  "language_info": {
   "codemirror_mode": {
    "name": "ipython",
    "version": 2
   },
   "file_extension": ".py",
   "mimetype": "text/x-python",
   "name": "python",
   "nbconvert_exporter": "python",
   "pygments_lexer": "ipython2",
   "version": "2.7.15"
  }
 },
 "nbformat": 4,
 "nbformat_minor": 2
}
